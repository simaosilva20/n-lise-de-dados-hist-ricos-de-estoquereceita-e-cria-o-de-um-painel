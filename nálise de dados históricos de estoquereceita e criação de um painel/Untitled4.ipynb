{
 "cells": [
  {
   "cell_type": "code",
   "execution_count": 1,
   "id": "e5d82292-b36d-4ec8-b1be-3e8ea72289d8",
   "metadata": {},
   "outputs": [
    {
     "name": "stdout",
     "output_type": "stream",
     "text": [
      "                                Open       High        Low      Close  \\\n",
      "Date                                                                    \n",
      "2025-07-17 00:00:00-04:00  23.540001  23.719999  23.379999  23.400000   \n",
      "2025-07-18 00:00:00-04:00  23.459999  23.510000  23.129999  23.280001   \n",
      "2025-07-21 00:00:00-04:00  23.280001  24.430000  23.049999  24.200001   \n",
      "2025-07-22 00:00:00-04:00  24.139999  24.840000  23.530001  24.260000   \n",
      "2025-07-23 00:00:00-04:00  24.459999  24.750000  23.809999  23.959999   \n",
      "\n",
      "                             Volume  Dividends  Stock Splits  \n",
      "Date                                                          \n",
      "2025-07-17 00:00:00-04:00   7307200        0.0           0.0  \n",
      "2025-07-18 00:00:00-04:00   6628400        0.0           0.0  \n",
      "2025-07-21 00:00:00-04:00  17718400        0.0           0.0  \n",
      "2025-07-22 00:00:00-04:00  12006300        0.0           0.0  \n",
      "2025-07-23 00:00:00-04:00   8270400        0.0           0.0  \n"
     ]
    }
   ],
   "source": [
    "import yfinance as yf\n",
    "\n",
    "# Obter dados da GameStop\n",
    "gme = yf.Ticker(\"GME\")\n",
    "gme_data = gme.history(period=\"max\")\n",
    "\n",
    "# Mostrar as últimas 5 linhas\n",
    "print(gme_data.tail())\n"
   ]
  },
  {
   "cell_type": "code",
   "execution_count": null,
   "id": "59d5c967-acce-4e98-9022-8f7733bb1ea6",
   "metadata": {},
   "outputs": [],
   "source": []
  }
 ],
 "metadata": {
  "kernelspec": {
   "display_name": "Python [conda env:base] *",
   "language": "python",
   "name": "conda-base-py"
  },
  "language_info": {
   "codemirror_mode": {
    "name": "ipython",
    "version": 3
   },
   "file_extension": ".py",
   "mimetype": "text/x-python",
   "name": "python",
   "nbconvert_exporter": "python",
   "pygments_lexer": "ipython3",
   "version": "3.13.5"
  }
 },
 "nbformat": 4,
 "nbformat_minor": 5
}
