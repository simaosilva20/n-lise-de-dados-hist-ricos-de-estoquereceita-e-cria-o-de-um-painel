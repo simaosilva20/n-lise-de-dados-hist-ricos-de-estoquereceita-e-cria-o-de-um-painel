{
 "cells": [
  {
   "cell_type": "code",
   "execution_count": 1,
   "id": "5ac3c88e-5537-4e73-a26f-0e1e0f1ad45f",
   "metadata": {},
   "outputs": [
    {
     "name": "stdout",
     "output_type": "stream",
     "text": [
      "Defaulting to user installation because normal site-packages is not writeable\n",
      "Requirement already satisfied: yfinance in c:\\users\\simao\\appdata\\roaming\\python\\python313\\site-packages (0.2.65)\n",
      "Requirement already satisfied: pandas in d:\\anaconda3\\lib\\site-packages (2.2.3)\n",
      "Requirement already satisfied: beautifulsoup4 in d:\\anaconda3\\lib\\site-packages (4.12.3)\n",
      "Requirement already satisfied: lxml in d:\\anaconda3\\lib\\site-packages (5.3.0)\n",
      "Requirement already satisfied: numpy>=1.16.5 in d:\\anaconda3\\lib\\site-packages (from yfinance) (2.1.3)\n",
      "Requirement already satisfied: requests>=2.31 in d:\\anaconda3\\lib\\site-packages (from yfinance) (2.32.3)\n",
      "Requirement already satisfied: multitasking>=0.0.7 in c:\\users\\simao\\appdata\\roaming\\python\\python313\\site-packages (from yfinance) (0.0.12)\n",
      "Requirement already satisfied: platformdirs>=2.0.0 in d:\\anaconda3\\lib\\site-packages (from yfinance) (4.3.7)\n",
      "Requirement already satisfied: pytz>=2022.5 in d:\\anaconda3\\lib\\site-packages (from yfinance) (2024.1)\n",
      "Requirement already satisfied: frozendict>=2.3.4 in d:\\anaconda3\\lib\\site-packages (from yfinance) (2.4.2)\n",
      "Requirement already satisfied: peewee>=3.16.2 in c:\\users\\simao\\appdata\\roaming\\python\\python313\\site-packages (from yfinance) (3.18.2)\n",
      "Requirement already satisfied: curl_cffi>=0.7 in c:\\users\\simao\\appdata\\roaming\\python\\python313\\site-packages (from yfinance) (0.12.0)\n",
      "Requirement already satisfied: protobuf>=3.19.0 in d:\\anaconda3\\lib\\site-packages (from yfinance) (5.29.3)\n",
      "Requirement already satisfied: websockets>=13.0 in c:\\users\\simao\\appdata\\roaming\\python\\python313\\site-packages (from yfinance) (15.0.1)\n",
      "Requirement already satisfied: python-dateutil>=2.8.2 in d:\\anaconda3\\lib\\site-packages (from pandas) (2.9.0.post0)\n",
      "Requirement already satisfied: tzdata>=2022.7 in d:\\anaconda3\\lib\\site-packages (from pandas) (2025.2)\n",
      "Requirement already satisfied: soupsieve>1.2 in d:\\anaconda3\\lib\\site-packages (from beautifulsoup4) (2.5)\n",
      "Requirement already satisfied: cffi>=1.12.0 in d:\\anaconda3\\lib\\site-packages (from curl_cffi>=0.7->yfinance) (1.17.1)\n",
      "Requirement already satisfied: certifi>=2024.2.2 in d:\\anaconda3\\lib\\site-packages (from curl_cffi>=0.7->yfinance) (2025.7.14)\n",
      "Requirement already satisfied: pycparser in d:\\anaconda3\\lib\\site-packages (from cffi>=1.12.0->curl_cffi>=0.7->yfinance) (2.21)\n",
      "Requirement already satisfied: six>=1.5 in d:\\anaconda3\\lib\\site-packages (from python-dateutil>=2.8.2->pandas) (1.17.0)\n",
      "Requirement already satisfied: charset-normalizer<4,>=2 in d:\\anaconda3\\lib\\site-packages (from requests>=2.31->yfinance) (3.3.2)\n",
      "Requirement already satisfied: idna<4,>=2.5 in d:\\anaconda3\\lib\\site-packages (from requests>=2.31->yfinance) (3.7)\n",
      "Requirement already satisfied: urllib3<3,>=1.21.1 in d:\\anaconda3\\lib\\site-packages (from requests>=2.31->yfinance) (2.3.0)\n"
     ]
    }
   ],
   "source": [
    "!pip install yfinance pandas beautifulsoup4 lxml\n"
   ]
  },
  {
   "cell_type": "code",
   "execution_count": 2,
   "id": "9bea6702-db2e-4207-814e-978a5485ea8c",
   "metadata": {},
   "outputs": [
    {
     "name": "stdout",
     "output_type": "stream",
     "text": [
      "Tudo a funcionar!\n"
     ]
    }
   ],
   "source": [
    "import pandas as pd\n",
    "import yfinance as yf\n",
    "from bs4 import BeautifulSoup\n",
    "import requests\n",
    "\n",
    "print(\"Tudo a funcionar!\")\n"
   ]
  },
  {
   "cell_type": "code",
   "execution_count": 3,
   "id": "008f7c1f-a6c2-47ee-97ee-95adb32aa55c",
   "metadata": {},
   "outputs": [
    {
     "data": {
      "text/html": [
       "<div>\n",
       "<style scoped>\n",
       "    .dataframe tbody tr th:only-of-type {\n",
       "        vertical-align: middle;\n",
       "    }\n",
       "\n",
       "    .dataframe tbody tr th {\n",
       "        vertical-align: top;\n",
       "    }\n",
       "\n",
       "    .dataframe thead th {\n",
       "        text-align: right;\n",
       "    }\n",
       "</style>\n",
       "<table border=\"1\" class=\"dataframe\">\n",
       "  <thead>\n",
       "    <tr style=\"text-align: right;\">\n",
       "      <th></th>\n",
       "      <th>Open</th>\n",
       "      <th>High</th>\n",
       "      <th>Low</th>\n",
       "      <th>Close</th>\n",
       "      <th>Volume</th>\n",
       "      <th>Dividends</th>\n",
       "      <th>Stock Splits</th>\n",
       "    </tr>\n",
       "    <tr>\n",
       "      <th>Date</th>\n",
       "      <th></th>\n",
       "      <th></th>\n",
       "      <th></th>\n",
       "      <th></th>\n",
       "      <th></th>\n",
       "      <th></th>\n",
       "      <th></th>\n",
       "    </tr>\n",
       "  </thead>\n",
       "  <tbody>\n",
       "    <tr>\n",
       "      <th>2025-07-17 00:00:00-04:00</th>\n",
       "      <td>323.149994</td>\n",
       "      <td>324.339996</td>\n",
       "      <td>317.059998</td>\n",
       "      <td>319.410004</td>\n",
       "      <td>73922900</td>\n",
       "      <td>0.0</td>\n",
       "      <td>0.0</td>\n",
       "    </tr>\n",
       "    <tr>\n",
       "      <th>2025-07-18 00:00:00-04:00</th>\n",
       "      <td>321.660004</td>\n",
       "      <td>330.899994</td>\n",
       "      <td>321.420013</td>\n",
       "      <td>329.649994</td>\n",
       "      <td>94255000</td>\n",
       "      <td>0.0</td>\n",
       "      <td>0.0</td>\n",
       "    </tr>\n",
       "    <tr>\n",
       "      <th>2025-07-21 00:00:00-04:00</th>\n",
       "      <td>334.399994</td>\n",
       "      <td>338.000000</td>\n",
       "      <td>326.880005</td>\n",
       "      <td>328.489990</td>\n",
       "      <td>75768800</td>\n",
       "      <td>0.0</td>\n",
       "      <td>0.0</td>\n",
       "    </tr>\n",
       "    <tr>\n",
       "      <th>2025-07-22 00:00:00-04:00</th>\n",
       "      <td>329.739990</td>\n",
       "      <td>335.410004</td>\n",
       "      <td>321.549988</td>\n",
       "      <td>332.109985</td>\n",
       "      <td>77370400</td>\n",
       "      <td>0.0</td>\n",
       "      <td>0.0</td>\n",
       "    </tr>\n",
       "    <tr>\n",
       "      <th>2025-07-23 00:00:00-04:00</th>\n",
       "      <td>330.899994</td>\n",
       "      <td>336.200012</td>\n",
       "      <td>328.670013</td>\n",
       "      <td>332.559998</td>\n",
       "      <td>86531400</td>\n",
       "      <td>0.0</td>\n",
       "      <td>0.0</td>\n",
       "    </tr>\n",
       "  </tbody>\n",
       "</table>\n",
       "</div>"
      ],
      "text/plain": [
       "                                 Open        High         Low       Close  \\\n",
       "Date                                                                        \n",
       "2025-07-17 00:00:00-04:00  323.149994  324.339996  317.059998  319.410004   \n",
       "2025-07-18 00:00:00-04:00  321.660004  330.899994  321.420013  329.649994   \n",
       "2025-07-21 00:00:00-04:00  334.399994  338.000000  326.880005  328.489990   \n",
       "2025-07-22 00:00:00-04:00  329.739990  335.410004  321.549988  332.109985   \n",
       "2025-07-23 00:00:00-04:00  330.899994  336.200012  328.670013  332.559998   \n",
       "\n",
       "                             Volume  Dividends  Stock Splits  \n",
       "Date                                                          \n",
       "2025-07-17 00:00:00-04:00  73922900        0.0           0.0  \n",
       "2025-07-18 00:00:00-04:00  94255000        0.0           0.0  \n",
       "2025-07-21 00:00:00-04:00  75768800        0.0           0.0  \n",
       "2025-07-22 00:00:00-04:00  77370400        0.0           0.0  \n",
       "2025-07-23 00:00:00-04:00  86531400        0.0           0.0  "
      ]
     },
     "execution_count": 3,
     "metadata": {},
     "output_type": "execute_result"
    }
   ],
   "source": [
    "import yfinance as yf\n",
    "import pandas as pd\n",
    "\n",
    "# Obter o objeto da Tesla\n",
    "tesla = yf.Ticker(\"TSLA\")\n",
    "\n",
    "# Obter os dados históricos (desde o início até hoje)\n",
    "tesla_data = tesla.history(period=\"max\")\n",
    "\n",
    "# Mostrar as últimas 5 linhas\n",
    "tesla_data.tail()\n"
   ]
  },
  {
   "cell_type": "code",
   "execution_count": 5,
   "id": "5c74e317-8dc5-4f6e-81d2-9a07a700d163",
   "metadata": {},
   "outputs": [
    {
     "name": "stdout",
     "output_type": "stream",
     "text": [
      "Script com dados não encontrado.\n"
     ]
    }
   ],
   "source": [
    "# Procurar o script que contém os dados da receita\n",
    "raw_data = None\n",
    "for script in scripts:\n",
    "    if \"var originalData =\" in script.text:\n",
    "        raw_data = script.text\n",
    "        break\n",
    "\n",
    "if raw_data is None:\n",
    "    print(\"Script com dados não encontrado.\")\n",
    "else:\n",
    "    print(\"Script com dados encontrado!\")\n"
   ]
  },
  {
   "cell_type": "code",
   "execution_count": 6,
   "id": "288a011e-c440-4372-89b0-dc741e7127d4",
   "metadata": {},
   "outputs": [
    {
     "name": "stdout",
     "output_type": "stream",
     "text": [
      "Número de tabelas encontradas: 6\n"
     ]
    },
    {
     "name": "stderr",
     "output_type": "stream",
     "text": [
      "C:\\Users\\simao\\AppData\\Local\\Temp\\ipykernel_11540\\3427597655.py:1: FutureWarning: Passing literal html to 'read_html' is deprecated and will be removed in a future version. To read from a literal string, wrap it in a 'StringIO' object.\n",
      "  tables = pd.read_html(html_data)\n"
     ]
    }
   ],
   "source": [
    "tables = pd.read_html(html_data)\n",
    "print(f\"Número de tabelas encontradas: {len(tables)}\")\n"
   ]
  },
  {
   "cell_type": "code",
   "execution_count": 7,
   "id": "30b30b1d-d37e-4e40-a7ed-daa07c1a1239",
   "metadata": {
    "scrolled": true
   },
   "outputs": [
    {
     "name": "stdout",
     "output_type": "stream",
     "text": [
      "Número de tabelas encontradas: 6\n",
      "\n",
      "Tabela 0:\n",
      "   Tesla Annual Revenue (Millions of US $)  \\\n",
      "0                                     2024   \n",
      "1                                     2023   \n",
      "2                                     2022   \n",
      "3                                     2021   \n",
      "4                                     2020   \n",
      "\n",
      "  Tesla Annual Revenue (Millions of US $).1  \n",
      "0                                   $97,690  \n",
      "1                                   $96,773  \n",
      "2                                   $81,462  \n",
      "3                                   $53,823  \n",
      "4                                   $31,536  \n",
      "\n",
      "Tabela 1:\n",
      "  Tesla Quarterly Revenue (Millions of US $)  \\\n",
      "0                                 2025-03-31   \n",
      "1                                 2024-12-31   \n",
      "2                                 2024-09-30   \n",
      "3                                 2024-06-30   \n",
      "4                                 2024-03-31   \n",
      "\n",
      "  Tesla Quarterly Revenue (Millions of US $).1  \n",
      "0                                      $19,335  \n",
      "1                                      $25,707  \n",
      "2                                      $25,182  \n",
      "3                                      $25,500  \n",
      "4                                      $21,301  \n",
      "\n",
      "Tabela 2:\n",
      "                                              Sector  \\\n",
      "0                                  Auto/Tires/Trucks   \n",
      "1  Tesla is the market leader in battery-powered ...   \n",
      "\n",
      "                                            Industry  \\\n",
      "0                      Auto Manufacturers - Domestic   \n",
      "1  Tesla is the market leader in battery-powered ...   \n",
      "\n",
      "                                          Market Cap  \\\n",
      "0                                         $1069.712B   \n",
      "1  Tesla is the market leader in battery-powered ...   \n",
      "\n",
      "                                             Revenue  \n",
      "0                                           $97.690B  \n",
      "1  Tesla is the market leader in battery-powered ...  \n",
      "\n",
      "Tabela 3:\n",
      "                 Stock Name        Country Market Cap  PE Ratio\n",
      "0             PACCAR (PCAR)  United States   $51.751B     15.55\n",
      "1       General Motors (GM)  United States   $47.005B      4.80\n",
      "2            Ford Motor (F)  United States   $44.498B      7.51\n",
      "3  Rivian Automotive (RIVN)  United States   $15.966B      0.00\n",
      "4              Lucid (LCID)  United States    $9.547B      0.00\n",
      "\n",
      "Tabela 4:\n",
      "                     Link Preview  HTML Code (Click to Copy)\n",
      "0  Tesla Revenue 2010-2025 | TSLA                        NaN\n",
      "1                     Macrotrends                        NaN\n",
      "2                          Source                        NaN\n",
      "\n",
      "Tabela 5:\n",
      "                     Link Preview  HTML Code (Click to Copy)\n",
      "0  Tesla Revenue 2010-2025 | TSLA                        NaN\n",
      "1                     Macrotrends                        NaN\n",
      "2                          Source                        NaN\n"
     ]
    },
    {
     "name": "stderr",
     "output_type": "stream",
     "text": [
      "C:\\Users\\simao\\AppData\\Local\\Temp\\ipykernel_11540\\954068801.py:9: FutureWarning: Passing literal html to 'read_html' is deprecated and will be removed in a future version. To read from a literal string, wrap it in a 'StringIO' object.\n",
      "  tables = pd.read_html(response.text)\n"
     ]
    }
   ],
   "source": [
    "import pandas as pd\n",
    "import requests\n",
    "\n",
    "url = \"https://www.macrotrends.net/stocks/charts/TSLA/tesla/revenue\"\n",
    "headers = {\"User-Agent\": \"Mozilla/5.0\"}\n",
    "response = requests.get(url, headers=headers)\n",
    "\n",
    "# Tentar ler todas as tabelas da página\n",
    "tables = pd.read_html(response.text)\n",
    "print(f\"Número de tabelas encontradas: {len(tables)}\")\n",
    "\n",
    "# Mostrar as primeiras linhas de cada tabela para identificar a tabela certa\n",
    "for i, table in enumerate(tables):\n",
    "    print(f\"\\nTabela {i}:\")\n",
    "    print(table.head())\n"
   ]
  },
  {
   "cell_type": "code",
   "execution_count": 8,
   "id": "c4050493-c4eb-4e29-8dfb-909499ed5800",
   "metadata": {},
   "outputs": [
    {
     "name": "stdout",
     "output_type": "stream",
     "text": [
      "          Date  Revenue\n",
      "58  2010-09-30     31.0\n",
      "59  2010-06-30     28.0\n",
      "60  2010-03-31     21.0\n",
      "62  2009-09-30     46.0\n",
      "63  2009-06-30     27.0\n"
     ]
    }
   ],
   "source": [
    "# Vamos usar a tabela 1 (receita trimestral)\n",
    "tesla_revenue = tables[1]\n",
    "\n",
    "# Renomear as colunas para nomes simples\n",
    "tesla_revenue.columns = [\"Date\", \"Revenue\"]\n",
    "\n",
    "# Remover linhas com valores ausentes\n",
    "tesla_revenue.dropna(inplace=True)\n",
    "\n",
    "# Limpar a coluna Revenue (remover $ e vírgulas)\n",
    "tesla_revenue[\"Revenue\"] = tesla_revenue[\"Revenue\"].str.replace(\"$\", \"\", regex=False).str.replace(\",\", \"\", regex=False)\n",
    "\n",
    "# Converter a coluna Revenue para float\n",
    "tesla_revenue[\"Revenue\"] = tesla_revenue[\"Revenue\"].astype(float)\n",
    "\n",
    "# Mostrar as últimas 5 linhas\n",
    "print(tesla_revenue.tail())\n"
   ]
  },
  {
   "cell_type": "code",
   "execution_count": null,
   "id": "bdefde3e-20fb-4370-8c92-9805d3c8b5ee",
   "metadata": {},
   "outputs": [],
   "source": []
  }
 ],
 "metadata": {
  "kernelspec": {
   "display_name": "Python [conda env:base] *",
   "language": "python",
   "name": "conda-base-py"
  },
  "language_info": {
   "codemirror_mode": {
    "name": "ipython",
    "version": 3
   },
   "file_extension": ".py",
   "mimetype": "text/x-python",
   "name": "python",
   "nbconvert_exporter": "python",
   "pygments_lexer": "ipython3",
   "version": "3.13.5"
  }
 },
 "nbformat": 4,
 "nbformat_minor": 5
}
