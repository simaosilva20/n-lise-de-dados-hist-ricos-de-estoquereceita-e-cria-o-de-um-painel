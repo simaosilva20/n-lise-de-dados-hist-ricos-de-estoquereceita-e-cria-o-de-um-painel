{
 "cells": [
  {
   "cell_type": "code",
   "execution_count": 1,
   "id": "eb37e3f3-850b-4c85-a64d-278e61b34df0",
   "metadata": {},
   "outputs": [
    {
     "name": "stdout",
     "output_type": "stream",
     "text": [
      "Número de tabelas encontradas: 6\n",
      "\n",
      "Tabela 0:\n",
      "   GameStop Annual Revenue (Millions of US $)  \\\n",
      "0                                        2025   \n",
      "1                                        2024   \n",
      "2                                        2023   \n",
      "3                                        2022   \n",
      "4                                        2021   \n",
      "\n",
      "  GameStop Annual Revenue (Millions of US $).1  \n",
      "0                                       $3,823  \n",
      "1                                       $5,273  \n",
      "2                                       $5,927  \n",
      "3                                       $6,011  \n",
      "4                                       $5,090  \n",
      "\n",
      "Tabela 1:\n",
      "  GameStop Quarterly Revenue (Millions of US $)  \\\n",
      "0                                    2025-04-30   \n",
      "1                                    2025-01-31   \n",
      "2                                    2024-10-31   \n",
      "3                                    2024-07-31   \n",
      "4                                    2024-04-30   \n",
      "\n",
      "  GameStop Quarterly Revenue (Millions of US $).1  \n",
      "0                                            $732  \n",
      "1                                          $1,283  \n",
      "2                                            $860  \n",
      "3                                            $798  \n",
      "4                                            $882  \n",
      "\n",
      "Tabela 2:\n",
      "                                              Sector  \\\n",
      "0                             Consumer Discretionary   \n",
      "1  GameStop Corp. offers the best selection of ne...   \n",
      "\n",
      "                                            Industry  \\\n",
      "0                                             Gaming   \n",
      "1  GameStop Corp. offers the best selection of ne...   \n",
      "\n",
      "                                          Market Cap  \\\n",
      "0                                           $10.852B   \n",
      "1  GameStop Corp. offers the best selection of ne...   \n",
      "\n",
      "                                             Revenue  \n",
      "0                                            $3.823B  \n",
      "1  GameStop Corp. offers the best selection of ne...  \n",
      "\n",
      "Tabela 3:\n",
      "                             Stock Name        Country Market Cap  PE Ratio\n",
      "0                      Nintendo (NTDOY)          Japan  $112.467B     55.51\n",
      "1                         Roblox (RBLX)  United States   $81.530B      0.00\n",
      "2          Flutter Entertainment (FLUT)  United States   $53.310B     46.63\n",
      "3  Take-Two Interactive Software (TTWO)  United States   $40.998B    224.34\n",
      "4                     DraftKings (DKNG)  United States   $39.627B      0.00\n",
      "\n",
      "Tabela 4:\n",
      "                       Link Preview  HTML Code (Click to Copy)\n",
      "0  GameStop Revenue 2010-2025 | GME                        NaN\n",
      "1                       Macrotrends                        NaN\n",
      "2                            Source                        NaN\n",
      "\n",
      "Tabela 5:\n",
      "                       Link Preview  HTML Code (Click to Copy)\n",
      "0  GameStop Revenue 2010-2025 | GME                        NaN\n",
      "1                       Macrotrends                        NaN\n",
      "2                            Source                        NaN\n"
     ]
    },
    {
     "name": "stderr",
     "output_type": "stream",
     "text": [
      "C:\\Users\\simao\\AppData\\Local\\Temp\\ipykernel_7280\\1636520660.py:8: FutureWarning: Passing literal html to 'read_html' is deprecated and will be removed in a future version. To read from a literal string, wrap it in a 'StringIO' object.\n",
      "  tables = pd.read_html(response.text)\n"
     ]
    }
   ],
   "source": [
    "import pandas as pd\n",
    "import requests\n",
    "\n",
    "url = \"https://www.macrotrends.net/stocks/charts/GME/gamestop/revenue\"\n",
    "headers = {\"User-Agent\": \"Mozilla/5.0\"}\n",
    "response = requests.get(url, headers=headers)\n",
    "\n",
    "tables = pd.read_html(response.text)\n",
    "print(f\"Número de tabelas encontradas: {len(tables)}\")\n",
    "\n",
    "# Mostrar as primeiras linhas de cada tabela para identificar a certa\n",
    "for i, table in enumerate(tables):\n",
    "    print(f\"\\nTabela {i}:\")\n",
    "    print(table.head())\n"
   ]
  },
  {
   "cell_type": "code",
   "execution_count": 2,
   "id": "46f8b2b4-6a9a-4f81-b5a6-49767e0f7137",
   "metadata": {},
   "outputs": [
    {
     "name": "stdout",
     "output_type": "stream",
     "text": [
      "          Date  Revenue\n",
      "61  2010-01-31   3524.0\n",
      "62  2009-10-31   1835.0\n",
      "63  2009-07-31   1739.0\n",
      "64  2009-04-30   1981.0\n",
      "65  2009-01-31   3492.0\n"
     ]
    }
   ],
   "source": [
    "gamestop_revenue = tables[1]\n",
    "\n",
    "gamestop_revenue.columns = [\"Date\", \"Revenue\"]\n",
    "gamestop_revenue.dropna(inplace=True)\n",
    "gamestop_revenue[\"Revenue\"] = gamestop_revenue[\"Revenue\"].str.replace(\"$\", \"\", regex=False).str.replace(\",\", \"\", regex=False)\n",
    "gamestop_revenue[\"Revenue\"] = gamestop_revenue[\"Revenue\"].astype(float)\n",
    "\n",
    "print(gamestop_revenue.tail())\n"
   ]
  },
  {
   "cell_type": "code",
   "execution_count": null,
   "id": "b2058066-2d3f-465f-aa18-007806427910",
   "metadata": {},
   "outputs": [],
   "source": []
  }
 ],
 "metadata": {
  "kernelspec": {
   "display_name": "Python [conda env:base] *",
   "language": "python",
   "name": "conda-base-py"
  },
  "language_info": {
   "codemirror_mode": {
    "name": "ipython",
    "version": 3
   },
   "file_extension": ".py",
   "mimetype": "text/x-python",
   "name": "python",
   "nbconvert_exporter": "python",
   "pygments_lexer": "ipython3",
   "version": "3.13.5"
  }
 },
 "nbformat": 4,
 "nbformat_minor": 5
}
